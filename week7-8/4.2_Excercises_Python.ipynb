{
 "cells": [
  {
   "cell_type": "markdown",
   "id": "081ea648",
   "metadata": {},
   "source": [
    "# Python"
   ]
  },
  {
   "cell_type": "code",
   "execution_count": 1,
   "id": "53a49ebf",
   "metadata": {},
   "outputs": [],
   "source": [
    "import pandas as pd\n",
    "import numpy as np\n",
    "import matplotlib.pyplot as plt\n",
    "import chart_studio.plotly as py\n",
    "import cufflinks as cf\n",
    "import seaborn as sns"
   ]
  },
  {
   "cell_type": "code",
   "execution_count": 2,
   "id": "5b6d4af2",
   "metadata": {},
   "outputs": [],
   "source": [
    "df = pd.read_csv(\"crimerates-by-state-2005.csv\")"
   ]
  },
  {
   "cell_type": "code",
   "execution_count": 3,
   "id": "89dfb80c",
   "metadata": {},
   "outputs": [
    {
     "data": {
      "text/html": [
       "<div>\n",
       "<style scoped>\n",
       "    .dataframe tbody tr th:only-of-type {\n",
       "        vertical-align: middle;\n",
       "    }\n",
       "\n",
       "    .dataframe tbody tr th {\n",
       "        vertical-align: top;\n",
       "    }\n",
       "\n",
       "    .dataframe thead th {\n",
       "        text-align: right;\n",
       "    }\n",
       "</style>\n",
       "<table border=\"1\" class=\"dataframe\">\n",
       "  <thead>\n",
       "    <tr style=\"text-align: right;\">\n",
       "      <th></th>\n",
       "      <th>state</th>\n",
       "      <th>murder</th>\n",
       "      <th>forcible_rape</th>\n",
       "      <th>robbery</th>\n",
       "      <th>aggravated_assault</th>\n",
       "      <th>burglary</th>\n",
       "      <th>larceny_theft</th>\n",
       "      <th>motor_vehicle_theft</th>\n",
       "      <th>population</th>\n",
       "    </tr>\n",
       "  </thead>\n",
       "  <tbody>\n",
       "    <tr>\n",
       "      <th>0</th>\n",
       "      <td>United States</td>\n",
       "      <td>5.6</td>\n",
       "      <td>31.7</td>\n",
       "      <td>140.7</td>\n",
       "      <td>291.1</td>\n",
       "      <td>726.7</td>\n",
       "      <td>2286.3</td>\n",
       "      <td>416.7</td>\n",
       "      <td>295753151</td>\n",
       "    </tr>\n",
       "    <tr>\n",
       "      <th>1</th>\n",
       "      <td>Alabama</td>\n",
       "      <td>8.2</td>\n",
       "      <td>34.3</td>\n",
       "      <td>141.4</td>\n",
       "      <td>247.8</td>\n",
       "      <td>953.8</td>\n",
       "      <td>2650.0</td>\n",
       "      <td>288.3</td>\n",
       "      <td>4545049</td>\n",
       "    </tr>\n",
       "    <tr>\n",
       "      <th>2</th>\n",
       "      <td>Alaska</td>\n",
       "      <td>4.8</td>\n",
       "      <td>81.1</td>\n",
       "      <td>80.9</td>\n",
       "      <td>465.1</td>\n",
       "      <td>622.5</td>\n",
       "      <td>2599.1</td>\n",
       "      <td>391.0</td>\n",
       "      <td>669488</td>\n",
       "    </tr>\n",
       "    <tr>\n",
       "      <th>3</th>\n",
       "      <td>Arizona</td>\n",
       "      <td>7.5</td>\n",
       "      <td>33.8</td>\n",
       "      <td>144.4</td>\n",
       "      <td>327.4</td>\n",
       "      <td>948.4</td>\n",
       "      <td>2965.2</td>\n",
       "      <td>924.4</td>\n",
       "      <td>5974834</td>\n",
       "    </tr>\n",
       "    <tr>\n",
       "      <th>4</th>\n",
       "      <td>Arkansas</td>\n",
       "      <td>6.7</td>\n",
       "      <td>42.9</td>\n",
       "      <td>91.1</td>\n",
       "      <td>386.8</td>\n",
       "      <td>1084.6</td>\n",
       "      <td>2711.2</td>\n",
       "      <td>262.1</td>\n",
       "      <td>2776221</td>\n",
       "    </tr>\n",
       "  </tbody>\n",
       "</table>\n",
       "</div>"
      ],
      "text/plain": [
       "           state  murder  forcible_rape  robbery  aggravated_assault  \\\n",
       "0  United States     5.6           31.7    140.7               291.1   \n",
       "1        Alabama     8.2           34.3    141.4               247.8   \n",
       "2         Alaska     4.8           81.1     80.9               465.1   \n",
       "3        Arizona     7.5           33.8    144.4               327.4   \n",
       "4       Arkansas     6.7           42.9     91.1               386.8   \n",
       "\n",
       "   burglary  larceny_theft  motor_vehicle_theft  population  \n",
       "0     726.7         2286.3                416.7   295753151  \n",
       "1     953.8         2650.0                288.3     4545049  \n",
       "2     622.5         2599.1                391.0      669488  \n",
       "3     948.4         2965.2                924.4     5974834  \n",
       "4    1084.6         2711.2                262.1     2776221  "
      ]
     },
     "execution_count": 3,
     "metadata": {},
     "output_type": "execute_result"
    }
   ],
   "source": [
    "df.head()"
   ]
  },
  {
   "cell_type": "markdown",
   "id": "3614ce6e",
   "metadata": {},
   "source": [
    "## Python - Scatter Plot"
   ]
  },
  {
   "cell_type": "code",
   "execution_count": 4,
   "id": "53098fdd",
   "metadata": {},
   "outputs": [
    {
     "data": {
      "image/png": "[encoded data removed]",
      "text/plain": [
       "<Figure size 432x288 with 1 Axes>"
      ]
     },
     "metadata": {
      "needs_background": "light"
     },
     "output_type": "display_data"
    }
   ],
   "source": [
    "plt.scatter(x=df['burglary'], y=df['motor_vehicle_theft'])\n",
    "plt.title('Scatter Plot')\n",
    "plt.xlabel('Burglary')\n",
    "plt.ylabel('Motor vehicle theft')\n",
    "plt.show()"
   ]
  },
  {
   "cell_type": "markdown",
   "id": "86a1e320",
   "metadata": {},
   "source": [
    "## Python - Bubble Chart"
   ]
  },
  {
   "cell_type": "code",
   "execution_count": 5,
   "id": "02e394b5",
   "metadata": {},
   "outputs": [
    {
     "data": {
      "text/plain": [
       "Text(0.5, 1.0, 'Bubble chart')"
      ]
     },
     "execution_count": 5,
     "metadata": {},
     "output_type": "execute_result"
    },
    {
     "data": {
      "image/png": "[encoded data removed]",
      "text/plain": [
       "<Figure size 432x288 with 1 Axes>"
      ]
     },
     "metadata": {
      "needs_background": "light"
     },
     "output_type": "display_data"
    }
   ],
   "source": [
    "x = df['burglary']\n",
    "y = df['motor_vehicle_theft']\n",
    "z = df['population']/100000\n",
    "colors = np.random.rand(52)\n",
    "plt.scatter(x=x, y=y, s=z, c=colors, alpha=0.7)\n",
    "plt.xlabel(\"Burglary\")\n",
    "plt.ylabel(\"Motor vehicle theft\")\n",
    "plt.title(\"Bubble chart\")"
   ]
  },
  {
   "cell_type": "markdown",
   "id": "77919014",
   "metadata": {},
   "source": [
    "## Python - Density Map"
   ]
  },
  {
   "cell_type": "code",
   "execution_count": 6,
   "id": "a51f195c",
   "metadata": {},
   "outputs": [
    {
     "name": "stderr",
     "output_type": "stream",
     "text": [
      "/Users/navavallepalli/opt/anaconda3/lib/python3.9/site-packages/seaborn/distributions.py:2619: FutureWarning:\n",
      "\n",
      "`distplot` is a deprecated function and will be removed in a future version. Please adapt your code to use either `displot` (a figure-level function with similar flexibility) or `kdeplot` (an axes-level function for kernel density plots).\n",
      "\n"
     ]
    },
    {
     "data": {
      "text/plain": [
       "Text(0.5, 1.0, 'Density Plot')"
      ]
     },
     "execution_count": 6,
     "metadata": {},
     "output_type": "execute_result"
    },
    {
     "data": {
      "image/png": "[encoded data removed]",
      "text/plain": [
       "<Figure size 432x288 with 1 Axes>"
      ]
     },
     "metadata": {
      "needs_background": "light"
     },
     "output_type": "display_data"
    }
   ],
   "source": [
    "sns.distplot(df['population'], hist = False, kde = True,\n",
    "                 kde_kws = {'shade': True, 'linewidth': 2})\n",
    "plt.title(\"Density Plot\")"
   ]
  }
 ],
 "metadata": {
  "kernelspec": {
   "display_name": "Python 3 (ipykernel)",
   "language": "python",
   "name": "python3"
  },
  "language_info": {
   "codemirror_mode": {
    "name": "ipython",
    "version": 3
   },
   "file_extension": ".py",
   "mimetype": "text/x-python",
   "name": "python",
   "nbconvert_exporter": "python",
   "pygments_lexer": "ipython3",
   "version": "3.9.7"
  }
 },
 "nbformat": 4,
 "nbformat_minor": 5
}
